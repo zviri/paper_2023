{
 "cells": [
  {
   "cell_type": "code",
   "execution_count": null,
   "metadata": {
    "tags": [
     "parameters"
    ]
   },
   "outputs": [],
   "source": [
    "germ_output_path = \"\"\n",
    "nodes_path = \"\"\n",
    "edges_path = \"\" \n",
    "debtors_path = \"\"\n",
    "node_label_mapping_path = \"\""
   ]
  },
  {
   "cell_type": "code",
   "execution_count": null,
   "metadata": {},
   "outputs": [],
   "source": [
    "from collections import defaultdict\n",
    "import os\n",
    "import sys\n",
    "import textwrap\n",
    "\n",
    "import networkx as nx\n",
    "import matplotlib.pyplot as plt\n",
    "import pandas as pd\n",
    "from dateutil.relativedelta import relativedelta\n",
    "from math import ceil\n",
    "from numpy import trapz\n",
    "\n",
    "os.chdir(os.environ[\"EXPERIMENTS_HOMEDIR\"])\n",
    "\n",
    "%matplotlib inline"
   ]
  },
  {
   "cell_type": "code",
   "execution_count": null,
   "metadata": {},
   "outputs": [],
   "source": [
    "def _value_label_to_str(value_label):\n",
    "    return {\n",
    "        \"0\": \"<=11%\",\n",
    "        \"1\": \"12-31%\",\n",
    "        \"2\": \"31-52%\",\n",
    "        \"3\": \"52-79%\",\n",
    "        \"4\": \">79%\",\n",
    "    }[value_label]\n",
    "\n",
    "def render_graph(g, node_labels=None, edge_labels=None):\n",
    "    pos=nx.spring_layout(g)\n",
    "    nx.draw(g, pos)\n",
    "    if not edge_labels:\n",
    "        edge_labels=dict([((u,v),d[\"label\"] + \"\\n\" + _value_label_to_str(d[\"value_label\"])) for u,v,d in g.edges(data=True)])\n",
    "    nx.draw_networkx_edge_labels(g,pos, edge_labels=edge_labels)\n",
    "    if node_labels:\n",
    "        nx.draw_networkx_labels(g, pos, labels=node_labels)\n",
    "    # else:\n",
    "    #     nx.draw_networkx_labels(\n",
    "    #         g,\n",
    "    #         pos,\n",
    "    #         labels=dict([\n",
    "    #             (u, node_label_2_name[int(d[\"label\"])]) for u,d in g.nodes(data=True)\n",
    "    #         ])\n",
    "    #     )\n",
    "    plt.show()\n",
    "    \n",
    "def calculate_confidence(graph, graphs):\n",
    "    edges = graph[\"graph\"].edges(data=True)\n",
    "    max_label = max(map(lambda e: int(e[2][\"label\"]), list(edges)))\n",
    "    selected_edges = [(ee[0], ee[1]) for ee in filter(lambda e: int(e[2][\"label\"]) < max_label, list(edges))]\n",
    "    body = graph[\"graph\"].edge_subgraph(selected_edges)\n",
    "    \n",
    "    for g in graphs:\n",
    "        if nx.is_isomorphic(\n",
    "            g[\"graph\"], \n",
    "            body, \n",
    "            edge_match=lambda e1, e2: e1[\"label\"] == e2[\"label\"] and e1[\"value_label\"] == e2[\"value_label\"], \n",
    "            node_match=lambda n1, n2: n1[\"label\"]==n2[\"label\"]\n",
    "        ):\n",
    "            return graph[\"support\"] / g[\"support\"]\n",
    "    else:\n",
    "        return 0\n",
    "\n",
    "def load_projections(path, max_num_projections=sys.maxsize):\n",
    "    projections = defaultdict(list)\n",
    "    current_projection = None\n",
    "    graph_number = None\n",
    "    skip = False\n",
    "    for idx, line in enumerate(open(path)):\n",
    "        if not line.startswith(\"t\") and skip:\n",
    "            continue\n",
    "        if line.startswith(\"t\"):\n",
    "            skip = False\n",
    "            graph_number = int(line.split(\" \")[2])\n",
    "            continue\n",
    "        elif line.startswith(\"p\"):\n",
    "            if current_projection is not None:\n",
    "                projections[graph_number].append(current_projection)\n",
    "            if len(projections[graph_number]) >= max_num_projections:\n",
    "                skip = True\n",
    "                current_projection = None\n",
    "                continue\n",
    "            current_projection = nx.DiGraph()\n",
    "        elif line.startswith(\"e\"):\n",
    "            from_, to, label, value_label = line.split(\" \")[1:5]\n",
    "            current_projection.add_edge(int(from_), int(to), label=int(label), value_label=value_label)\n",
    "\n",
    "def _get_diff_months(end_date, min_date):\n",
    "    delta = relativedelta(end_date, min_date)\n",
    "    return delta.years * 12 + delta.months"
   ]
  },
  {
   "cell_type": "code",
   "execution_count": null,
   "metadata": {},
   "outputs": [],
   "source": [
    "# node_label_2_name = dict(\n",
    "#     pd.read_csv(node_label_mapping_path)[[\"label\", \"idx\"]].values\n",
    "# )\n",
    "# print(node_label_2_name)"
   ]
  },
  {
   "cell_type": "code",
   "execution_count": null,
   "metadata": {},
   "outputs": [],
   "source": [
    "nodes_df = pd.read_csv(nodes_path)\n",
    "nodes_df[\"proposal_timestamp\"] = pd.to_datetime(nodes_df[\"proposal_timestamp\"])\n",
    "edges_df = pd.read_csv(edges_path)\n",
    "edges_df[\"due_date\"] = pd.to_datetime(edges_df[\"due_date\"])"
   ]
  },
  {
   "cell_type": "code",
   "execution_count": null,
   "metadata": {},
   "outputs": [],
   "source": [
    "debtors_num_agg = []\n",
    "graph_number = None\n",
    "debtors_set = {}\n",
    "for line in open(debtors_path):\n",
    "    if line.startswith(\"t\"):\n",
    "        if debtors_num_agg:\n",
    "            debtors_set[graph_number] = debtors_num_agg\n",
    "            pass\n",
    "        debtors_num_agg = []\n",
    "        graph_number = int(line.split(\" \")[-1])\n",
    "        continue\n",
    "    else:\n",
    "        debtors_num_agg.append(int(line.strip()))\n",
    "\n",
    "def plot_time_to_bankruptcy_hist(debtors, plot=True):\n",
    "    selected_nodes_df = nodes_df.merge(debtors, on=\"idx\")\n",
    "    selected_edges_df = edges_df.merge(selected_nodes_df[[\"idx\", \"id\", \"proposal_timestamp\"]], left_on=\"src_id\", right_on=\"id\")\n",
    "    selected_edges_df = selected_edges_df.sort_values(by=\"due_date\")\n",
    "    first_default_df = selected_edges_df.loc[selected_edges_df.groupby('src_id').due_date.idxmin()]\n",
    "    diffs = first_default_df.apply(lambda row: _get_diff_months(row[\"proposal_timestamp\"], row[\"due_date\"]), axis=1)\n",
    "    if plot:\n",
    "        ax = diffs.hist(\n",
    "            bins=20,\n",
    "            figsize=(8,3),\n",
    "            range=(0,100)\n",
    "        )    \n",
    "        ax.set_title(f\"Time to bankruptcy (median={round(diffs.median(),2)}) months\")\n",
    "        plt.show()\n",
    "    median_ = diffs.median()\n",
    "    return median_\n",
    "    \n",
    "def plot_cumulative_hist(debtors, plot=True):\n",
    "    selected_nodes_df = nodes_df.merge(debtors, on=\"idx\")\n",
    "    selected_edges_df = edges_df.merge(selected_nodes_df[[\"idx\", \"id\", \"proposal_timestamp\"]], left_on=\"src_id\", right_on=\"id\")\n",
    "    selected_edges_df = selected_edges_df.sort_values(by=\"due_date\")\n",
    "    accum = []\n",
    "    for src_id in selected_edges_df.src_id.drop_duplicates():\n",
    "        sub_df = selected_edges_df[selected_edges_df.src_id == src_id].copy()\n",
    "        sub_df[\"quarter\"] = sub_df[\"label_custom\"] - sub_df[\"label_custom\"].min()\n",
    "        report_df = sub_df.groupby(\"quarter\")[[\"value_percentage\"]].sum()\n",
    "        cumulative_series = report_df.value_percentage.cumsum()\n",
    "        accum.append(cumulative_series)\n",
    "    stats_df = pd.concat(accum, axis=1).sort_index().fillna(method=\"ffill\").mean(axis=1)\n",
    "    if plot:\n",
    "        ax = stats_df.plot(figsize=(8,3))\n",
    "        ax.set_title(\"Debt accumulation\")\n",
    "        ax.set_ylim(0,100)\n",
    "        plt.show()\n",
    "    return stats_df"
   ]
  },
  {
   "cell_type": "code",
   "execution_count": null,
   "metadata": {},
   "outputs": [],
   "source": [
    "tmp_g = None\n",
    "support = None\n",
    "graph_number = None\n",
    "graphs = []\n",
    "for line in open(germ_output_path):\n",
    "    if line.startswith(\"t\"):\n",
    "        if tmp_g:\n",
    "            graphs.append({\"graph\": tmp_g, \"support\": support, \"number\": graph_number})\n",
    "            pass\n",
    "        tmp_g = nx.DiGraph()\n",
    "        support = int(line.split(\" \")[-1])\n",
    "        graph_number = int(line.split(\" \")[-2])\n",
    "        continue\n",
    "    if line.startswith(\"v\"):\n",
    "        parsed = line.strip().split(\" \")\n",
    "        tmp_g.add_node(parsed[1], label=parsed[2])\n",
    "    if line.startswith(\"e\"):\n",
    "        parsed = line.strip().split(\" \")\n",
    "        tmp_g.add_edge(parsed[1], parsed[2], label=parsed[3], value_label=parsed[4])  \n",
    "\n",
    "for g in graphs:\n",
    "    g[\"confidence\"] = calculate_confidence(g, graphs)"
   ]
  },
  {
   "cell_type": "code",
   "execution_count": null,
   "metadata": {},
   "outputs": [],
   "source": [
    "medians, aucs = [], []\n",
    "for row in sorted(graphs, key=lambda d: d[\"confidence\"], reverse=True):\n",
    "    # if not any(map(lambda v: v[\"label\"] == '7', dict(row[\"graph\"].nodes(data=True)).values())):\n",
    "    #     continue\n",
    "    # if not any(map(lambda e: e[2][\"value_label\"] == '3', list(row[\"graph\"].edges(data=True)))):\n",
    "    #     continue\n",
    "    print(\"******************************************************\")\n",
    "    print(\"Number: \" + str(row[\"number\"]))\n",
    "    print(\"Support: \" + str(row[\"support\"]))\n",
    "    print(\"Confidence: \" + str(round(row[\"confidence\"]*100, 2)) + \" %\")   \n",
    "    render_graph(row[\"graph\"])\n",
    "    median_ = plot_time_to_bankruptcy_hist(pd.DataFrame(debtors_set[row[\"number\"]], columns=[\"idx\"]))\n",
    "    medians.append(median_)\n",
    "    hist_df = plot_cumulative_hist(pd.DataFrame(debtors_set[row[\"number\"]], columns=[\"idx\"]))    \n",
    "    aucs.append(trapz(hist_df))"
   ]
  },
  {
   "cell_type": "markdown",
   "metadata": {},
   "source": [
    "## Correlation analysis"
   ]
  },
  {
   "cell_type": "code",
   "execution_count": null,
   "metadata": {},
   "outputs": [],
   "source": [
    "medians, aucs, value_labels = [], [], []\n",
    "for row in sorted(graphs, key=lambda d: d[\"confidence\"], reverse=True):\n",
    "    value_labels.append([])\n",
    "    if any(map(lambda e: e[2][\"value_label\"] == '0', list(row[\"graph\"].edges(data=True)))):\n",
    "        value_labels[-1].append(\"0\")\n",
    "    if any(map(lambda e: e[2][\"value_label\"] == '1', list(row[\"graph\"].edges(data=True)))):\n",
    "        value_labels[-1].append(\"1\")\n",
    "    if any(map(lambda e: e[2][\"value_label\"] == '2', list(row[\"graph\"].edges(data=True)))):\n",
    "        value_labels[-1].append(\"2\")\n",
    "    if any(map(lambda e: e[2][\"value_label\"] == '3', list(row[\"graph\"].edges(data=True)))):\n",
    "        value_labels[-1].append(\"3\")\n",
    "    if any(map(lambda e: e[2][\"value_label\"] == '4', list(row[\"graph\"].edges(data=True)))):\n",
    "        value_labels[-1].append(\"4\")\n",
    "    median_ = plot_time_to_bankruptcy_hist(pd.DataFrame(debtors_set[row[\"number\"]], columns=[\"idx\"]), False)\n",
    "    medians.append(median_)\n",
    "    hist_df = plot_cumulative_hist(pd.DataFrame(debtors_set[row[\"number\"]], columns=[\"idx\"]), False)    \n",
    "    aucs.append(trapz(hist_df))"
   ]
  },
  {
   "cell_type": "code",
   "execution_count": null,
   "metadata": {},
   "outputs": [],
   "source": [
    "stats_df = pd.DataFrame(zip(medians, aucs, value_labels), columns=[\"median\", \"auc\", \"value_labels\"])\n",
    "stats_df[\"very_small\"] = stats_df.value_labels.apply(lambda vl: \"0\" in vl)\n",
    "stats_df[\"small\"] = stats_df.value_labels.apply(lambda vl: \"1\" in vl)\n",
    "stats_df[\"medium\"] = stats_df.value_labels.apply(lambda vl: \"2\" in vl)\n",
    "stats_df[\"large\"] = stats_df.value_labels.apply(lambda vl: \"3\" in vl)\n",
    "stats_df[\"very_large\"] = stats_df.value_labels.apply(lambda vl: \"4\" in vl)"
   ]
  },
  {
   "cell_type": "code",
   "execution_count": null,
   "metadata": {},
   "outputs": [],
   "source": [
    "# global\n",
    "stats_df[\"median\"].corr(stats_df[\"auc\"])"
   ]
  },
  {
   "cell_type": "code",
   "execution_count": null,
   "metadata": {},
   "outputs": [],
   "source": [
    "# very large\n",
    "select_df = stats_df[stats_df[\"very_large\"] == True]\n",
    "print(len(select_df))\n",
    "select_df[\"median\"].corr(select_df[\"auc\"])"
   ]
  },
  {
   "cell_type": "code",
   "execution_count": null,
   "metadata": {},
   "outputs": [],
   "source": [
    "# large\n",
    "select_df = stats_df[stats_df[\"large\"] == True]\n",
    "print(len(select_df))\n",
    "select_df[\"median\"].corr(select_df[\"auc\"])"
   ]
  },
  {
   "cell_type": "code",
   "execution_count": null,
   "metadata": {},
   "outputs": [],
   "source": [
    "# medium\n",
    "select_df = stats_df[stats_df[\"medium\"] == True]\n",
    "print(len(select_df))\n",
    "select_df[\"median\"].corr(select_df[\"auc\"])"
   ]
  },
  {
   "cell_type": "code",
   "execution_count": null,
   "metadata": {},
   "outputs": [],
   "source": [
    "# small\n",
    "select_df = stats_df[stats_df[\"small\"] == True]\n",
    "print(len(select_df))\n",
    "select_df[\"median\"].corr(select_df[\"auc\"])"
   ]
  },
  {
   "cell_type": "code",
   "execution_count": null,
   "metadata": {},
   "outputs": [],
   "source": [
    "# very_small\n",
    "select_df = stats_df[stats_df[\"very_small\"] == True]\n",
    "print(len(select_df))\n",
    "select_df[\"median\"].corr(select_df[\"auc\"])"
   ]
  },
  {
   "cell_type": "markdown",
   "metadata": {},
   "source": [
    "# Projections analysis"
   ]
  },
  {
   "cell_type": "code",
   "execution_count": null,
   "metadata": {},
   "outputs": [],
   "source": [
    "# nodes_df = pd.read_csv(nodes_path)\n",
    "# nodes_df.id = nodes_df.id.astype(str)\n",
    "# \n",
    "# edges_df = pd.read_csv(edges_path)\n",
    "# edges_df.src_id = edges_df.src_id.astype(str)\n",
    "# edges_df.dst_id = edges_df.dst_id.astype(str)\n",
    "# \n",
    "# node_data_dict = dict([(row[\"idx\"], row) for _, row in nodes_df.iterrows()])\n",
    "# node_idx_to_id = dict([(row[\"idx\"], row[\"id\"]) for _, row in nodes_df.iterrows()])\n",
    "# edge_data_dict = dict([((str(row[\"src_id\"]), row[\"dst_id\"]), row) for _, row in edges_df.iterrows()])"
   ]
  },
  {
   "cell_type": "code",
   "execution_count": null,
   "metadata": {},
   "outputs": [],
   "source": [
    "# projections = load_projections(f\"{germ_output_path}.projections\")"
   ]
  },
  {
   "cell_type": "code",
   "execution_count": null,
   "metadata": {},
   "outputs": [],
   "source": [
    "# def render_projection(g):\n",
    "#     node_labels = dict([(node_idx, \"\\n\".join(textwrap.wrap(node_data_dict[node_idx][\"name\"], 10))) for node_idx in g.nodes])\n",
    "#     edge_labels = dict([\n",
    "#         (\n",
    "#             (from_, to), \n",
    "#             \"\\n\".join([\n",
    "#                 str(edge_data_dict[(node_idx_to_id[from_], node_idx_to_id[to])][\"label_monthly\"]), \n",
    "#                 str(edge_data_dict[(node_idx_to_id[from_], node_idx_to_id[to])][\"due_date\"])\n",
    "#             ])\n",
    "#         ) for from_, to in g.edges\n",
    "#     ])\n",
    "#     render_graph(g, node_labels=node_labels, edge_labels=edge_labels)"
   ]
  },
  {
   "cell_type": "code",
   "execution_count": null,
   "metadata": {},
   "outputs": [],
   "source": [
    "# render_projection(projections[...][...])"
   ]
  }
 ],
 "metadata": {
  "kernelspec": {
   "display_name": "Python 3 (ipykernel)",
   "language": "python",
   "name": "python3"
  },
  "language_info": {
   "codemirror_mode": {
    "name": "ipython",
    "version": 3
   },
   "file_extension": ".py",
   "mimetype": "text/x-python",
   "name": "python",
   "nbconvert_exporter": "python",
   "pygments_lexer": "ipython3",
   "version": "3.8.10"
  },
  "vscode": {
   "interpreter": {
    "hash": "7e4062e2dd0c4cad42606d4962dbfa7c599d655964b0cb5eecd376ffd74b6397"
   }
  }
 },
 "nbformat": 4,
 "nbformat_minor": 4
}
