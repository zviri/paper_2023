{
 "cells": [
  {
   "cell_type": "code",
   "execution_count": null,
   "metadata": {
    "tags": [
     "parameters"
    ]
   },
   "outputs": [],
   "source": [
    "retail_graph_path = \"\"\n",
    "business_graph_path = \"\"\n",
    "nodes_path = \"\""
   ]
  },
  {
   "cell_type": "code",
   "execution_count": null,
   "metadata": {},
   "outputs": [],
   "source": [
    "import networkx as nx\n",
    "import pandas as pd\n",
    "import numpy as np\n",
    "import os\n",
    "import seaborn as sns\n",
    "import matplotlib.pyplot as plt\n",
    "\n",
    "sns.set_style(\"whitegrid\")\n",
    "\n",
    "os.chdir(os.environ[\"EXPERIMENTS_HOMEDIR\"])\n",
    "\n",
    "%matplotlib inline"
   ]
  },
  {
   "cell_type": "code",
   "execution_count": null,
   "metadata": {},
   "outputs": [],
   "source": [
    "business_g = nx.read_gpickle(business_graph_path)\n",
    "retail_g = nx.read_gpickle(retail_graph_path)\n",
    "nodes_df = pd.read_csv(nodes_path)\n",
    "\n",
    "print(\"Business graph\")\n",
    "print(f\"Num nodes: {len(business_g.nodes())}\")\n",
    "print(f\"Num edges: {len(business_g.edges())}\")\n",
    "print(\"Retail graph\")\n",
    "print(f\"Num nodes: {len(retail_g.nodes())}\")\n",
    "print(f\"Num edges: {len(retail_g.edges())}\")"
   ]
  },
  {
   "cell_type": "code",
   "execution_count": null,
   "metadata": {},
   "outputs": [],
   "source": [
    "retail_edges_df = pd.DataFrame(\n",
    "    [(e[0], e[1], e[2][\"due_date\"], e[2][\"label\"], e[2][\"value\"], e[2][\"value_percentage\"], e[2][\"publish_date\"]) for e in retail_g.edges(data=True)],\n",
    "    columns=[\"from\", \"to\", \"due_date\", \"label\", \"value\", \"value_percentage\", \"publish_date\"]\n",
    ")\n",
    "retail_edges_df[\"due_date\"] = pd.to_datetime(retail_edges_df[\"due_date\"])\n",
    "retail_edges_df[\"due_date_year\"] = retail_edges_df.due_date.apply(lambda dd: dd.year)\n",
    "\n",
    "business_edges_df = pd.DataFrame(\n",
    "    [(e[0], e[1], e[2][\"due_date\"], e[2][\"label\"], e[2][\"value\"], e[2][\"value_percentage\"], e[2][\"publish_date\"]) for e in business_g.edges(data=True)],\n",
    "    columns=[\"from\", \"to\", \"due_date\", \"label\", \"value\", \"value_percentage\", \"publish_date\"]\n",
    ")\n",
    "business_edges_df[\"due_date\"] = pd.to_datetime(business_edges_df[\"due_date\"])\n",
    "business_edges_df[\"due_date_year\"] = business_edges_df.due_date.apply(lambda dd: dd.year)"
   ]
  },
  {
   "cell_type": "code",
   "execution_count": null,
   "metadata": {},
   "outputs": [],
   "source": [
    "print(round(business_edges_df.value.mean(), 2))\n",
    "print(round(retail_edges_df.value.mean()), 2)"
   ]
  },
  {
   "cell_type": "code",
   "execution_count": null,
   "metadata": {},
   "outputs": [],
   "source": [
    "retail_hist_df = retail_edges_df[\n",
    "    [\"due_date_year\", \"due_date\"]\n",
    "].groupby(\"due_date_year\").count()\n",
    "retail_hist_df = retail_hist_df / retail_hist_df.due_date.sum() * 100\n",
    "retail_hist_df = retail_hist_df.rename(columns={\"due_date\": \"Individuals\"})\n",
    "\n",
    "business_hist_df = business_edges_df[\n",
    "    [\"due_date_year\", \"due_date\"]\n",
    "].groupby(\"due_date_year\").count()\n",
    "business_hist_df = business_hist_df / business_hist_df.due_date.sum() * 100\n",
    "business_hist_df = business_hist_df.rename(columns={\"due_date\": \"Companies\"})"
   ]
  },
  {
   "cell_type": "code",
   "execution_count": null,
   "metadata": {},
   "outputs": [],
   "source": [
    "retail_hist_df.merge(\n",
    "    business_hist_df, left_index=True, right_index=True, how=\"left\"\n",
    ").plot(kind=\"bar\", figsize=(12,4), rot=45)\n",
    "plt.xticks(fontsize=18)\n",
    "plt.yticks(fontsize=18)\n",
    "plt.xlabel(\"Maturity year\", fontsize=18, labelpad=6)\n",
    "plt.ylabel(\"% of receivables\", fontsize=18, labelpad=5)\n",
    "plt.legend(loc='upper right', fontsize=18, bbox_to_anchor=(0.3, 1.00));"
   ]
  }
 ],
 "metadata": {
  "kernelspec": {
   "display_name": "experiments-lib-sSN4AHN6-py3.8",
   "language": "python",
   "name": "python3"
  },
  "language_info": {
   "codemirror_mode": {
    "name": "ipython",
    "version": 3
   },
   "file_extension": ".py",
   "mimetype": "text/x-python",
   "name": "python",
   "nbconvert_exporter": "python",
   "pygments_lexer": "ipython3",
   "version": "3.8.10"
  },
  "vscode": {
   "interpreter": {
    "hash": "7e4062e2dd0c4cad42606d4962dbfa7c599d655964b0cb5eecd376ffd74b6397"
   }
  }
 },
 "nbformat": 4,
 "nbformat_minor": 4
}
