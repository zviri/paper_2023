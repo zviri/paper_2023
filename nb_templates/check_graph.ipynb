{
 "cells": [
  {
   "cell_type": "code",
   "execution_count": null,
   "metadata": {
    "tags": [
     "parameters"
    ]
   },
   "outputs": [],
   "source": [
    "graph_path = \"\"\n",
    "nodes_path = \"\"\n",
    "edges_path = \"\"\n",
    "insolvency_data_path = \"\""
   ]
  },
  {
   "cell_type": "code",
   "execution_count": null,
   "metadata": {},
   "outputs": [],
   "source": [
    "import networkx as nx\n",
    "import pandas as pd\n",
    "import numpy as np\n",
    "import os\n",
    "\n",
    "os.chdir(os.environ[\"EXPERIMENTS_HOMEDIR\"])\n",
    "\n",
    "%matplotlib inline"
   ]
  },
  {
   "cell_type": "code",
   "execution_count": null,
   "metadata": {},
   "outputs": [],
   "source": [
    "g = nx.read_gpickle(graph_path)\n",
    "nodes_df = pd.read_csv(nodes_path)\n",
    "nodes_df.id = nodes_df.id.astype(str)\n",
    "edges_df = pd.read_csv(edges_path)\n",
    "edges_df.src_id = edges_df.src_id.astype(str)\n",
    "edges_df.dst_id = edges_df.dst_id.astype(str)\n",
    "\n",
    "insolvency_data_df = pd.read_csv(insolvency_data_path)\n",
    "\n",
    "print(f\"Num nodes: {len(g.nodes())}\")\n",
    "print(f\"Num edges: {len(g.edges())}\")"
   ]
  },
  {
   "cell_type": "code",
   "execution_count": null,
   "metadata": {},
   "outputs": [],
   "source": [
    "in_degrees_df = pd.DataFrame(\n",
    "    g.in_degree(), columns=[\"id\", \"in_degree\"]\n",
    ")\n",
    "out_degrees_df = pd.DataFrame(\n",
    "    g.out_degree(), columns=[\"id\", \"out_degree\"]\n",
    ")\n",
    "degrees_df = in_degrees_df.merge(\n",
    "    out_degrees_df, on=\"id\"\n",
    ").merge(nodes_df, on=\"id\")"
   ]
  },
  {
   "attachments": {},
   "cell_type": "markdown",
   "metadata": {},
   "source": [
    "## Region stats"
   ]
  },
  {
   "cell_type": "code",
   "execution_count": null,
   "metadata": {},
   "outputs": [],
   "source": [
    "region_stats_df = out_degrees_df[out_degrees_df.out_degree > 0].merge(\n",
    "    edges_df, left_on=\"id\", right_on=\"src_id\").merge(insolvency_data_df, on=\"insolvency_id\").groupby(\"region\").agg(count=(\"id\", \"count\")\n",
    ")\n",
    "region_stats_df[\"percentate\"] = region_stats_df[\"count\"] / region_stats_df[\"count\"].sum() * 100\n",
    "region_stats_df.round(1)"
   ]
  },
  {
   "attachments": {},
   "cell_type": "markdown",
   "metadata": {},
   "source": [
    "## Degree stats"
   ]
  },
  {
   "cell_type": "code",
   "execution_count": null,
   "metadata": {},
   "outputs": [],
   "source": [
    "# In degrees ovewview\n",
    "degrees_df.sort_values(by=\"in_degree\", ascending=False)[:10]"
   ]
  },
  {
   "cell_type": "code",
   "execution_count": null,
   "metadata": {},
   "outputs": [],
   "source": [
    "# Categories overview\n",
    "overview_df = degrees_df.groupby(\"category\")[[\"in_degree\"]].sum()\n",
    "overview_df[\"in_degree_perc\"] = (overview_df[\"in_degree\"] / overview_df.in_degree.sum()) * 100\n",
    "overview_df.round(2)"
   ]
  },
  {
   "cell_type": "code",
   "execution_count": null,
   "metadata": {},
   "outputs": [],
   "source": [
    "# Out degrees overview\n",
    "degrees_df.sort_values(by=\"out_degree\", ascending=False)[:10]"
   ]
  },
  {
   "attachments": {},
   "cell_type": "markdown",
   "metadata": {},
   "source": [
    "## Other stats"
   ]
  },
  {
   "cell_type": "code",
   "execution_count": null,
   "metadata": {},
   "outputs": [],
   "source": [
    "edges_df = pd.DataFrame(\n",
    "    [(e[0], e[1], e[2][\"due_date\"], e[2][\"label\"], e[2][\"value\"], e[2][\"value_percentage\"], e[2][\"publish_date\"]) for e in g.edges(data=True)],\n",
    "    columns=[\"from\", \"to\", \"due_date\", \"label\", \"value\", \"value_percentage\", \"publish_date\"]\n",
    ")\n",
    "edges_df[\"due_date\"] = pd.to_datetime(edges_df[\"due_date\"])\n",
    "edges_df[\"due_date_year\"] = edges_df.due_date.apply(lambda dd: dd.year)\n",
    "\n",
    "node_ids_set = set(list(edges_df[\"from\"]) + list(edges_df[\"to\"]))\n",
    "business_nodes_df = nodes_df[nodes_df[\"id\"].apply(lambda nid: nid in node_ids_set)]"
   ]
  },
  {
   "cell_type": "code",
   "execution_count": null,
   "metadata": {},
   "outputs": [],
   "source": [
    "hist_df = edges_df[[\"due_date_year\", \"due_date\"]].groupby(\"due_date_year\").count()\n",
    "ax = hist_df.plot(kind=\"bar\", legend=False, title=\"Histogram of due date (yearly)\", figsize=(12,3))\n",
    "ax.set_xlabel(\"Frequency\")\n",
    "ax.set_ylabel(\"Year\")"
   ]
  },
  {
   "cell_type": "code",
   "execution_count": null,
   "metadata": {},
   "outputs": [],
   "source": [
    "edges_df.due_date.hist(bins=100, figsize=(12,4))"
   ]
  },
  {
   "cell_type": "code",
   "execution_count": null,
   "metadata": {},
   "outputs": [],
   "source": [
    "# Proposal date histogram\n",
    "pd.to_datetime(business_nodes_df.proposal_timestamp).hist(bins=100, figsize=(12,4))"
   ]
  },
  {
   "cell_type": "code",
   "execution_count": null,
   "metadata": {},
   "outputs": [],
   "source": [
    "# Publish date histogram\n",
    "pd.to_datetime(edges_df.publish_date).hist(bins=100, figsize=(12,4))"
   ]
  },
  {
   "cell_type": "code",
   "execution_count": 2,
   "metadata": {},
   "outputs": [],
   "source": [
    "ax = edges_df.value_percentage.hist(bins=100, figsize=(12,3))\n",
    "ax.set_title(\"Histogram of receivable value ratios\")\n",
    "ax.set_xlabel(\"Frequency\")\n",
    "ax.set_ylabel(\"Ratio\")\n",
    "pass"
   ]
  },
  {
   "cell_type": "code",
   "execution_count": null,
   "metadata": {},
   "outputs": [],
   "source": [
    "hist, bins = np.histogram(edges_df.value_percentage, bins=100)\n",
    "diff=np.abs(np.diff(hist, n=2))\n",
    "ax = pd.Series(diff).plot(kind=\"bar\", logy=True, figsize=(12,3))\n",
    "for label in ax.xaxis.get_ticklabels()[1::2]:\n",
    "    label.set_visible(False)"
   ]
  }
 ],
 "metadata": {
  "kernelspec": {
   "display_name": "Python 3 (ipykernel)",
   "language": "python",
   "name": "python3"
  },
  "language_info": {
   "codemirror_mode": {
    "name": "ipython",
    "version": 3
   },
   "file_extension": ".py",
   "mimetype": "text/x-python",
   "name": "python",
   "nbconvert_exporter": "python",
   "pygments_lexer": "ipython3",
   "version": "3.8.10"
  },
  "vscode": {
   "interpreter": {
    "hash": "7e4062e2dd0c4cad42606d4962dbfa7c599d655964b0cb5eecd376ffd74b6397"
   }
  }
 },
 "nbformat": 4,
 "nbformat_minor": 4
}
